{
  "nbformat": 4,
  "nbformat_minor": 0,
  "metadata": {
    "colab": {
      "provenance": []
    },
    "kernelspec": {
      "name": "python3",
      "display_name": "Python 3"
    },
    "language_info": {
      "name": "python"
    }
  },
  "cells": [
    {
      "cell_type": "markdown",
      "source": [
        "###1. How do you create a basic Flask application?\n",
        "\n"
      ],
      "metadata": {
        "id": "sS6-SODukSft"
      }
    },
    {
      "cell_type": "code",
      "source": [
        "from flask import Flask\n",
        "\n",
        "app = Flask(__name__)\n",
        "\n",
        "@app.route('/')\n",
        "def home():\n",
        "    return 'Hello, Flask!'\n",
        "\n",
        "if __name__ == '__main__':\n",
        "    app.run(debug=True)"
      ],
      "metadata": {
        "id": "yB_3L4rekZdU"
      },
      "execution_count": null,
      "outputs": []
    },
    {
      "cell_type": "markdown",
      "source": [
        "###2. How do you serve static files like images or CSS in Flask?\n",
        "\n",
        "Place them in a folder named static, then reference them in templates:\n",
        "\n",
        "\n"
      ],
      "metadata": {
        "id": "2IihtE22kdVX"
      }
    },
    {
      "cell_type": "code",
      "source": [
        "<link rel=\"stylesheet\" href=\"{{ url_for('static', filename='style.css') }}\">"
      ],
      "metadata": {
        "id": "CTmwUqv4knFc"
      },
      "execution_count": null,
      "outputs": []
    },
    {
      "cell_type": "markdown",
      "source": [
        "###3. How do you define different routes with different HTTP methods in Flask?\n",
        "\n"
      ],
      "metadata": {
        "id": "b_4FkOLrkoS1"
      }
    },
    {
      "cell_type": "code",
      "source": [
        "@app.route('/submit', methods=['GET', 'POST'])\n",
        "def submit():\n",
        "    if request.method == 'POST':\n",
        "        return 'Form Submitted'\n",
        "    return 'Form Page'"
      ],
      "metadata": {
        "id": "7oa-kAyNkv7s"
      },
      "execution_count": null,
      "outputs": []
    },
    {
      "cell_type": "markdown",
      "source": [
        "###4. How do you render HTML templates in Flask?\n",
        "Use the render_template() function:\n",
        "\n"
      ],
      "metadata": {
        "id": "d0nB4LADkwhV"
      }
    },
    {
      "cell_type": "code",
      "source": [
        "\n",
        "from flask import render_template\n",
        "\n",
        "@app.route('/home')\n",
        "def home():\n",
        "    return render_template('home.html')"
      ],
      "metadata": {
        "id": "hy97MYGvk2D1"
      },
      "execution_count": null,
      "outputs": []
    },
    {
      "cell_type": "markdown",
      "source": [
        "###5. How can you generate URLs for routes in Flask using url_for?\n",
        "\n"
      ],
      "metadata": {
        "id": "LUrJ0LyRk259"
      }
    },
    {
      "cell_type": "code",
      "source": [
        "url_for('home')  # Returns the URL path for the 'home' view"
      ],
      "metadata": {
        "id": "vgbps8BNk6s0"
      },
      "execution_count": null,
      "outputs": []
    },
    {
      "cell_type": "markdown",
      "source": [
        "###6. How do you handle forms in Flask?\n",
        "\n"
      ],
      "metadata": {
        "id": "J6spKLRMk9Wd"
      }
    },
    {
      "cell_type": "code",
      "source": [
        "@app.route('/form', methods=['POST'])\n",
        "def form():\n",
        "    name = request.form['name']\n",
        "    return f'Hello {name}'"
      ],
      "metadata": {
        "id": "Mvfl4iCLlB-N"
      },
      "execution_count": null,
      "outputs": []
    },
    {
      "cell_type": "markdown",
      "source": [
        "###7. How can you validate form data in Flask?\n",
        "\n",
        "Manually or using libraries like WTForms:\n",
        "\n",
        "\n"
      ],
      "metadata": {
        "id": "XEl_MoVFlCrl"
      }
    },
    {
      "cell_type": "code",
      "source": [
        "\n",
        "if not request.form['email']:\n",
        "    return 'Email is required', 400"
      ],
      "metadata": {
        "id": "wuASo3RelXRN"
      },
      "execution_count": null,
      "outputs": []
    },
    {
      "cell_type": "markdown",
      "source": [
        "###8. How do you manage sessions in Flask?\n",
        "\n"
      ],
      "metadata": {
        "id": "O6J75a-UldRk"
      }
    },
    {
      "cell_type": "code",
      "source": [
        "\n",
        "from flask import session\n",
        "\n",
        "app.secret_key = 'secret'\n",
        "\n",
        "@app.route('/login')\n",
        "def login():\n",
        "    session['user'] = 'admin'\n",
        "    return 'Logged in'\n"
      ],
      "metadata": {
        "id": "VboMshFklg90"
      },
      "execution_count": null,
      "outputs": []
    },
    {
      "cell_type": "markdown",
      "source": [
        "###9. How do you redirect to a different route in Flask?\n"
      ],
      "metadata": {
        "id": "0MhlzmnFljUk"
      }
    },
    {
      "cell_type": "code",
      "source": [
        "\n",
        "from flask import redirect, url_for\n",
        "\n",
        "@app.route('/go')\n",
        "def go():\n",
        "    return redirect(url_for('home'))"
      ],
      "metadata": {
        "id": "dYAtxZ8ClnPU"
      },
      "execution_count": null,
      "outputs": []
    },
    {
      "cell_type": "markdown",
      "source": [
        "###10. How do you handle errors in Flask (e.g., 404)?\n"
      ],
      "metadata": {
        "id": "WBLfKUP0lptM"
      }
    },
    {
      "cell_type": "code",
      "source": [
        "\n",
        "@app.errorhandler(404)\n",
        "def not_found(e):\n",
        "    return 'Page not found', 404"
      ],
      "metadata": {
        "id": "Y6iTQARPlt4E"
      },
      "execution_count": null,
      "outputs": []
    },
    {
      "cell_type": "markdown",
      "source": [
        "###11. How do you structure a Flask app using Blueprints?\n"
      ],
      "metadata": {
        "id": "flKJS477ludU"
      }
    },
    {
      "cell_type": "code",
      "source": [
        "\n",
        "# in user_routes.py\n",
        "from flask import Blueprint\n",
        "\n",
        "user_bp = Blueprint('user', __name__)\n",
        "\n",
        "@user_bp.route('/profile')\n",
        "def profile():\n",
        "    return 'User Profile'\n",
        "\n",
        "# in main app\n",
        "app.register_blueprint(user_bp, url_prefix='/user')"
      ],
      "metadata": {
        "id": "9TdPZXIUlz2k"
      },
      "execution_count": null,
      "outputs": []
    },
    {
      "cell_type": "markdown",
      "source": [
        "###12. How do you define a custom Jinja filter in Flask?\n"
      ],
      "metadata": {
        "id": "LqSGJfuul0hk"
      }
    },
    {
      "cell_type": "code",
      "source": [
        "\n",
        "@app.template_filter('reverse')\n",
        "def reverse_filter(s):\n",
        "    return s[::-1]"
      ],
      "metadata": {
        "id": "RAzqYwZTl4vE"
      },
      "execution_count": null,
      "outputs": []
    },
    {
      "cell_type": "markdown",
      "source": [
        "###13. How can you redirect with query parameters in Flask?\n",
        "\n"
      ],
      "metadata": {
        "id": "jevziKZkl8O0"
      }
    },
    {
      "cell_type": "code",
      "source": [
        "return redirect(url_for('home', msg='welcome'))"
      ],
      "metadata": {
        "id": "uZk1dqKzl-_U"
      },
      "execution_count": null,
      "outputs": []
    },
    {
      "cell_type": "markdown",
      "source": [
        "###14. How do you return JSON responses in Flask?\n",
        "\n",
        "\n"
      ],
      "metadata": {
        "id": "s7gdU1uRmLrc"
      }
    },
    {
      "cell_type": "code",
      "source": [
        "from flask import jsonify\n",
        "\n",
        "@app.route('/api')\n",
        "def api():\n",
        "    return jsonify({'message': 'Success'})"
      ],
      "metadata": {
        "id": "obRANbM7mPGk"
      },
      "execution_count": null,
      "outputs": []
    },
    {
      "cell_type": "markdown",
      "source": [
        "###15. How do you capture URL parameters in Flask?\n"
      ],
      "metadata": {
        "id": "DE997O5ymRzc"
      }
    },
    {
      "cell_type": "code",
      "source": [
        "\n",
        "@app.route('/user/<username>')\n",
        "def show_user(username):\n",
        "    return f'User: {username}'"
      ],
      "metadata": {
        "id": "ZqoRvgIDmUn1"
      },
      "execution_count": null,
      "outputs": []
    }
  ]
}